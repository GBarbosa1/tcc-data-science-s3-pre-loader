{
 "cells": [
  {
   "cell_type": "code",
   "execution_count": null,
   "metadata": {},
   "outputs": [],
   "source": [
    "import boto3\n",
    "import os\n",
    "import pandas as pd\n",
    "import yfinance as yf\n",
    "import json\n",
    "from datetime import datetime\n",
    "from dotenv import load_dotenv"
   ]
  },
  {
   "cell_type": "markdown",
   "metadata": {},
   "source": [
    "Configurations"
   ]
  },
  {
   "cell_type": "code",
   "execution_count": null,
   "metadata": {},
   "outputs": [],
   "source": [
    "load_dotenv(\"enviroment/.env\")\n",
    "\n",
    "aws_access_key = os.getenv(\"AWS_ACCESS_KEY_ID\")\n",
    "aws_secret_key = os.getenv(\"AWS_SECRET_ACCESS_KEY\")\n",
    "aws_region = os.getenv(\"AWS_REGION\")\n",
    "bucket_name = \"silver-finance-data\""
   ]
  },
  {
   "cell_type": "code",
   "execution_count": null,
   "metadata": {},
   "outputs": [],
   "source": [
    "s3_client = boto3.client(\n",
    "    \"s3\",\n",
    "    aws_access_key_id=os.getenv(\"AWS_ACCESS_KEY_ID\"),\n",
    "    aws_secret_access_key=os.getenv(\"AWS_SECRET_ACCESS_KEY\"),\n",
    "    region_name=os.getenv(\"AWS_REGION\"),\n",
    ")\n",
    "print(s3_client)"
   ]
  },
  {
   "cell_type": "markdown",
   "metadata": {},
   "source": [
    "Functions"
   ]
  },
  {
   "cell_type": "code",
   "execution_count": null,
   "metadata": {},
   "outputs": [],
   "source": [
    "def put_json_yfinance_aws(s3_client, ticker, ticker_label, start_date, end_date,bucket_name):\n",
    "    data = yf.download(ticker, start=start_date, end=end_date)\n",
    "    data.columns = data.columns.get_level_values(0)\n",
    "    data = data.copy()\n",
    "    data = data.reset_index(drop=False)\n",
    "    for index, rows in data.iterrows():\n",
    "        date = rows['Date']\n",
    "        close = round(rows['Close'],3)\n",
    "        high = round(rows['High'],3)\n",
    "        low = round(rows['High'],2)\n",
    "        open = round(rows['Open'],2)\n",
    "        volume = round(rows['Volume'],2)\n",
    "        formatted_key_date = date.strftime(\"%Y_%m_%d\")\n",
    "        formatted_date = date.strftime(\"%Y-%m-%d\")\n",
    "        json_data = {\"date_capture\" : formatted_date,\"close\" : close,\"high\" : high,\"low\" : low,\"open\" : open,\"volume\":volume}\n",
    "        json_data = json.dumps(json_data)\n",
    "        s3_object_name = ticker_label + \"/\" + formatted_key_date + \"_\" + ticker_label\n",
    "        s3_client.put_object(\n",
    "            Bucket = bucket_name,\n",
    "            Key = s3_object_name,\n",
    "            Body=json_data,\n",
    "            ContentType=\"application/json\"\n",
    "            )\n",
    "        print(s3_object_name)\n",
    "\n",
    "\n",
    "    return data"
   ]
  },
  {
   "cell_type": "code",
   "execution_count": null,
   "metadata": {},
   "outputs": [],
   "source": [
    "for itens in ['ITUB3.SA','ABEV3.SA','BBDC3.SA','PETR3.SA','^BVSP']:\n",
    "    ticker = itens\n",
    "    ticker_label = ticker.replace('^','')\n",
    "    ticker_label = ticker_label.replace('.SA','')\n",
    "    start_date = '1900-01-01'\n",
    "    end_date = '2024-04-26'\n",
    "    put_json_yfinance_aws(s3_client,ticker, ticker_label, start_date, end_date, 'silver-finance-data')"
   ]
  },
  {
   "cell_type": "code",
   "execution_count": null,
   "metadata": {},
   "outputs": [],
   "source": []
  }
 ],
 "metadata": {
  "kernelspec": {
   "display_name": "Python 3",
   "language": "python",
   "name": "python3"
  },
  "language_info": {
   "codemirror_mode": {
    "name": "ipython",
    "version": 3
   },
   "file_extension": ".py",
   "mimetype": "text/x-python",
   "name": "python",
   "nbconvert_exporter": "python",
   "pygments_lexer": "ipython3",
   "version": "3.12.1"
  }
 },
 "nbformat": 4,
 "nbformat_minor": 2
}
